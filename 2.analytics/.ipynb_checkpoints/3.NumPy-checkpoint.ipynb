{
 "cells": [
  {
   "cell_type": "code",
   "execution_count": 3,
   "id": "8383b4f8",
   "metadata": {},
   "outputs": [],
   "source": [
    "import numpy as np"
   ]
  },
  {
   "cell_type": "markdown",
   "id": "4601c7c2",
   "metadata": {},
   "source": [
    "- агрегирование\n",
    "Агрегирование - вычисление неких сводных показателей."
   ]
  },
  {
   "cell_type": "code",
   "execution_count": 7,
   "id": "3148e6df",
   "metadata": {},
   "outputs": [
    {
     "data": {
      "text/plain": [
       "array([0.99524909, 0.08463129, 0.33121977, 0.01779571, 0.07402203,\n",
       "       0.38399915, 0.70437548, 0.99284006, 0.50779463, 0.08101071])"
      ]
     },
     "execution_count": 7,
     "metadata": {},
     "output_type": "execute_result"
    }
   ],
   "source": [
    "arr_1 = np.random.random(10)\n",
    "arr_1"
   ]
  },
  {
   "cell_type": "code",
   "execution_count": 8,
   "id": "c4b49fb4",
   "metadata": {},
   "outputs": [
    {
     "data": {
      "text/plain": [
       "4.1729379149947485"
      ]
     },
     "execution_count": 8,
     "metadata": {},
     "output_type": "execute_result"
    }
   ],
   "source": [
    "# сумма\n",
    "# 1d-array\n",
    "np.sum(arr_1)"
   ]
  },
  {
   "cell_type": "code",
   "execution_count": 9,
   "id": "77d0abba",
   "metadata": {},
   "outputs": [
    {
     "data": {
      "text/plain": [
       "4.1729379149947485"
      ]
     },
     "execution_count": 9,
     "metadata": {},
     "output_type": "execute_result"
    }
   ],
   "source": [
    "# 2d-array\n",
    "np.sum(arr_1.reshape((2,5)))"
   ]
  },
  {
   "cell_type": "code",
   "execution_count": 28,
   "id": "ebea4490",
   "metadata": {},
   "outputs": [
    {
     "data": {
      "text/plain": [
       "array([1.37924824, 0.78900677, 1.32405983, 0.52559035, 0.15503273])"
      ]
     },
     "execution_count": 28,
     "metadata": {},
     "output_type": "execute_result"
    }
   ],
   "source": [
    "np.sum(arr_1.reshape((2,5)), axis=0)"
   ]
  },
  {
   "cell_type": "code",
   "execution_count": 10,
   "id": "667bd151",
   "metadata": {},
   "outputs": [
    {
     "data": {
      "text/plain": [
       "0.0177957108194442"
      ]
     },
     "execution_count": 10,
     "metadata": {},
     "output_type": "execute_result"
    }
   ],
   "source": [
    "# минимум\n",
    "np.min(arr_1)"
   ]
  },
  {
   "cell_type": "code",
   "execution_count": 11,
   "id": "1ceb88ee",
   "metadata": {},
   "outputs": [
    {
     "data": {
      "text/plain": [
       "0.9952490858612566"
      ]
     },
     "execution_count": 11,
     "metadata": {},
     "output_type": "execute_result"
    }
   ],
   "source": [
    "# максимум\n",
    "np.max(arr_1)"
   ]
  },
  {
   "cell_type": "code",
   "execution_count": 13,
   "id": "f470f5f6",
   "metadata": {},
   "outputs": [
    {
     "data": {
      "text/plain": [
       "0.4172937914994749"
      ]
     },
     "execution_count": 13,
     "metadata": {},
     "output_type": "execute_result"
    }
   ],
   "source": [
    "# среднееарифметическое\n",
    "np.mean(arr_1)"
   ]
  },
  {
   "cell_type": "code",
   "execution_count": null,
   "id": "9f7b4d80",
   "metadata": {},
   "outputs": [],
   "source": []
  },
  {
   "cell_type": "markdown",
   "id": "b249e641",
   "metadata": {},
   "source": [
    "- сравнение массивов"
   ]
  },
  {
   "cell_type": "code",
   "execution_count": 15,
   "id": "48f83975",
   "metadata": {},
   "outputs": [
    {
     "data": {
      "text/plain": [
       "array([0, 1, 2, 3, 4, 5, 6])"
      ]
     },
     "execution_count": 15,
     "metadata": {},
     "output_type": "execute_result"
    }
   ],
   "source": [
    "arr_2 = np.arange(7)\n",
    "arr_2"
   ]
  },
  {
   "cell_type": "code",
   "execution_count": 16,
   "id": "08790b3d",
   "metadata": {},
   "outputs": [
    {
     "data": {
      "text/plain": [
       "array([ True,  True, False,  True,  True,  True,  True])"
      ]
     },
     "execution_count": 16,
     "metadata": {},
     "output_type": "execute_result"
    }
   ],
   "source": [
    "arr_2 != 2"
   ]
  },
  {
   "cell_type": "code",
   "execution_count": 17,
   "id": "4617e1aa",
   "metadata": {},
   "outputs": [
    {
     "data": {
      "text/plain": [
       "array([False, False,  True, False, False, False, False])"
      ]
     },
     "execution_count": 17,
     "metadata": {},
     "output_type": "execute_result"
    }
   ],
   "source": [
    "arr_2 == 2"
   ]
  },
  {
   "cell_type": "code",
   "execution_count": 18,
   "id": "b69e5ef7",
   "metadata": {},
   "outputs": [
    {
     "data": {
      "text/plain": [
       "array([False, False, False, False,  True,  True,  True])"
      ]
     },
     "execution_count": 18,
     "metadata": {},
     "output_type": "execute_result"
    }
   ],
   "source": [
    "arr_2 > 3"
   ]
  },
  {
   "cell_type": "code",
   "execution_count": 19,
   "id": "405e6b65",
   "metadata": {},
   "outputs": [
    {
     "data": {
      "text/plain": [
       "array([[False, False],\n",
       "       [False, False],\n",
       "       [ True,  True],\n",
       "       [ True,  True],\n",
       "       [ True,  True]])"
      ]
     },
     "execution_count": 19,
     "metadata": {},
     "output_type": "execute_result"
    }
   ],
   "source": [
    "np.arange(10).reshape((5,2)) >= 4"
   ]
  },
  {
   "cell_type": "code",
   "execution_count": 20,
   "id": "688d8a7d",
   "metadata": {},
   "outputs": [
    {
     "data": {
      "text/plain": [
       "True"
      ]
     },
     "execution_count": 20,
     "metadata": {},
     "output_type": "execute_result"
    }
   ],
   "source": [
    "# общее сравнение\n",
    "# имеется ли в массиве значение отвечающие условию\n",
    "condition = arr_2 > 4\n",
    "np.any(condition)"
   ]
  },
  {
   "cell_type": "code",
   "execution_count": 22,
   "id": "3cf1bd91",
   "metadata": {},
   "outputs": [
    {
     "data": {
      "text/plain": [
       "False"
      ]
     },
     "execution_count": 22,
     "metadata": {},
     "output_type": "execute_result"
    }
   ],
   "source": [
    "# все ли значения отвечают условию\n",
    "np.all(arr_2 < 2)"
   ]
  },
  {
   "cell_type": "code",
   "execution_count": 24,
   "id": "a6bcd62a",
   "metadata": {},
   "outputs": [
    {
     "data": {
      "text/plain": [
       "array([[0, 1],\n",
       "       [2, 3],\n",
       "       [4, 5],\n",
       "       [6, 7],\n",
       "       [8, 9]])"
      ]
     },
     "execution_count": 24,
     "metadata": {},
     "output_type": "execute_result"
    }
   ],
   "source": [
    "arr_3 = np.arange(10).reshape((5,2))\n",
    "arr_3"
   ]
  },
  {
   "cell_type": "code",
   "execution_count": 25,
   "id": "1bf637e6",
   "metadata": {},
   "outputs": [
    {
     "data": {
      "text/plain": [
       "array([ True,  True])"
      ]
     },
     "execution_count": 25,
     "metadata": {},
     "output_type": "execute_result"
    }
   ],
   "source": [
    "np.any(arr_3 > 7, axis=0)"
   ]
  },
  {
   "cell_type": "code",
   "execution_count": 26,
   "id": "08465465",
   "metadata": {},
   "outputs": [
    {
     "data": {
      "text/plain": [
       "array([False, False, False, False,  True])"
      ]
     },
     "execution_count": 26,
     "metadata": {},
     "output_type": "execute_result"
    }
   ],
   "source": [
    "np.any(arr_3 > 7, axis=1)"
   ]
  },
  {
   "cell_type": "code",
   "execution_count": 27,
   "id": "c288970a",
   "metadata": {},
   "outputs": [
    {
     "data": {
      "text/plain": [
       "array([False, False])"
      ]
     },
     "execution_count": 27,
     "metadata": {},
     "output_type": "execute_result"
    }
   ],
   "source": [
    "np.all(arr_3 < 5, axis=0)"
   ]
  },
  {
   "cell_type": "code",
   "execution_count": null,
   "id": "b7e7b549",
   "metadata": {},
   "outputs": [],
   "source": []
  },
  {
   "cell_type": "markdown",
   "id": "82fa733f",
   "metadata": {},
   "source": [
    "- маскипрвание"
   ]
  },
  {
   "cell_type": "code",
   "execution_count": 29,
   "id": "5cf10236",
   "metadata": {},
   "outputs": [
    {
     "data": {
      "text/plain": [
       "array([6, 2, 6, 0, 0])"
      ]
     },
     "execution_count": 29,
     "metadata": {},
     "output_type": "execute_result"
    }
   ],
   "source": [
    "arr_4 = np.random.randint(10, size=5)\n",
    "arr_4"
   ]
  },
  {
   "cell_type": "code",
   "execution_count": 30,
   "id": "ceae15fc",
   "metadata": {},
   "outputs": [
    {
     "data": {
      "text/plain": [
       "array([False,  True, False,  True,  True])"
      ]
     },
     "execution_count": 30,
     "metadata": {},
     "output_type": "execute_result"
    }
   ],
   "source": [
    "# маска - массив с булевыми значениями\n",
    "c = arr_4 < 6\n",
    "c"
   ]
  },
  {
   "cell_type": "code",
   "execution_count": 31,
   "id": "3a4c04db",
   "metadata": {},
   "outputs": [
    {
     "data": {
      "text/plain": [
       "array([2, 0, 0])"
      ]
     },
     "execution_count": 31,
     "metadata": {},
     "output_type": "execute_result"
    }
   ],
   "source": [
    "arr_4[c]"
   ]
  },
  {
   "cell_type": "code",
   "execution_count": 37,
   "id": "666501c2",
   "metadata": {},
   "outputs": [
    {
     "data": {
      "text/plain": [
       "array([6, 6])"
      ]
     },
     "execution_count": 37,
     "metadata": {},
     "output_type": "execute_result"
    }
   ],
   "source": [
    "# побитовые операторы & = and, | = or\n",
    "arr_4[(arr_4 > 5) & (arr_4 < 8)]"
   ]
  },
  {
   "cell_type": "code",
   "execution_count": 38,
   "id": "ba35c4e6",
   "metadata": {},
   "outputs": [
    {
     "data": {
      "text/plain": [
       "array([6, 2, 6, 0, 0])"
      ]
     },
     "execution_count": 38,
     "metadata": {},
     "output_type": "execute_result"
    }
   ],
   "source": [
    "arr_4[arr_4 != 8]"
   ]
  },
  {
   "cell_type": "code",
   "execution_count": null,
   "id": "7c3c8e59",
   "metadata": {},
   "outputs": [],
   "source": []
  },
  {
   "cell_type": "markdown",
   "id": "93879866",
   "metadata": {},
   "source": [
    "- прихотливая индексация(fancy indieces"
   ]
  },
  {
   "cell_type": "code",
   "execution_count": 39,
   "id": "0d251b7f",
   "metadata": {},
   "outputs": [
    {
     "data": {
      "text/plain": [
       "array([10, 11, 12, 13, 14, 15, 16, 17, 18, 19])"
      ]
     },
     "execution_count": 39,
     "metadata": {},
     "output_type": "execute_result"
    }
   ],
   "source": [
    "arr_5 = np.arange(10, 20)\n",
    "arr_5"
   ]
  },
  {
   "cell_type": "code",
   "execution_count": 40,
   "id": "8fd6dba7",
   "metadata": {},
   "outputs": [
    {
     "data": {
      "text/plain": [
       "array([13, 10, 15])"
      ]
     },
     "execution_count": 40,
     "metadata": {},
     "output_type": "execute_result"
    }
   ],
   "source": [
    "# с помощью списка\n",
    "arr_5[[3,0,5]]"
   ]
  },
  {
   "cell_type": "code",
   "execution_count": 41,
   "id": "9be9d027",
   "metadata": {},
   "outputs": [
    {
     "data": {
      "text/plain": [
       "array([13, 10, 15, 17])"
      ]
     },
     "execution_count": 41,
     "metadata": {},
     "output_type": "execute_result"
    }
   ],
   "source": [
    "# с помощью массива индексов\n",
    "arr_5[np.array([3,0,5,7])]"
   ]
  },
  {
   "cell_type": "code",
   "execution_count": 42,
   "id": "49c97295",
   "metadata": {},
   "outputs": [
    {
     "data": {
      "text/plain": [
       "array([[13, 10, 11],\n",
       "       [11, 11, 15]])"
      ]
     },
     "execution_count": 42,
     "metadata": {},
     "output_type": "execute_result"
    }
   ],
   "source": [
    "# с помощью прихотливой индексации может менять форму результирующего массива\n",
    "fi = np.array(\n",
    "    [[3,0,1],\n",
    "     [1,1,5]]\n",
    ")\n",
    "arr_5[fi]"
   ]
  },
  {
   "cell_type": "code",
   "execution_count": null,
   "id": "c19948b4",
   "metadata": {},
   "outputs": [],
   "source": []
  }
 ],
 "metadata": {
  "kernelspec": {
   "display_name": "Python 3",
   "language": "python",
   "name": "python3"
  },
  "language_info": {
   "codemirror_mode": {
    "name": "ipython",
    "version": 3
   },
   "file_extension": ".py",
   "mimetype": "text/x-python",
   "name": "python",
   "nbconvert_exporter": "python",
   "pygments_lexer": "ipython3",
   "version": "3.8.8"
  }
 },
 "nbformat": 4,
 "nbformat_minor": 5
}
