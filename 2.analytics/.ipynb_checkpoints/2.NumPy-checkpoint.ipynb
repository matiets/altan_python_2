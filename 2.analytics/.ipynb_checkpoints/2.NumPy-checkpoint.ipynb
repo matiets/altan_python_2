{
 "cells": [
  {
   "cell_type": "code",
   "execution_count": null,
   "id": "b1fe5a2c",
   "metadata": {},
   "outputs": [],
   "source": [
    "!pip install numpy, pandas"
   ]
  },
  {
   "cell_type": "code",
   "execution_count": 1,
   "id": "d0ee552f",
   "metadata": {},
   "outputs": [],
   "source": [
    "import numpy as np"
   ]
  },
  {
   "cell_type": "code",
   "execution_count": 4,
   "id": "34cf44da",
   "metadata": {},
   "outputs": [
    {
     "data": {
      "text/plain": [
       "2"
      ]
     },
     "execution_count": 4,
     "metadata": {},
     "output_type": "execute_result"
    }
   ],
   "source": [
    "# Генерация массива с случайными целочислеными значениями\n",
    "# Одно случайное значение из диапозона от 0 до 10\n",
    " # Скалярное значение\n",
    "np.random.randint(10)"
   ]
  },
  {
   "cell_type": "code",
   "execution_count": 8,
   "id": "0bae7cdb",
   "metadata": {},
   "outputs": [
    {
     "data": {
      "text/plain": [
       "array([19, 14, 13, 19, 12])"
      ]
     },
     "execution_count": 8,
     "metadata": {},
     "output_type": "execute_result"
    }
   ],
   "source": [
    "np.random.randint(10, 20, size=5)"
   ]
  },
  {
   "cell_type": "code",
   "execution_count": 6,
   "id": "8c62d193",
   "metadata": {},
   "outputs": [
    {
     "data": {
      "text/plain": [
       "array([6, 9, 7, 3, 3])"
      ]
     },
     "execution_count": 6,
     "metadata": {},
     "output_type": "execute_result"
    }
   ],
   "source": [
    "# Одномерный массив со случайными целыми значениями\n",
    "np.random.randint(10, size=5)"
   ]
  },
  {
   "cell_type": "code",
   "execution_count": 7,
   "id": "386463c8",
   "metadata": {},
   "outputs": [
    {
     "data": {
      "text/plain": [
       "array([8, 9, 9, 9, 7])"
      ]
     },
     "execution_count": 7,
     "metadata": {},
     "output_type": "execute_result"
    }
   ],
   "source": [
    "np.random.randint(5, 10, size=5)"
   ]
  },
  {
   "cell_type": "code",
   "execution_count": 9,
   "id": "7bc3f303",
   "metadata": {},
   "outputs": [
    {
     "data": {
      "text/plain": [
       "array([[9, 5, 4, 3, 2],\n",
       "       [2, 5, 0, 2, 4],\n",
       "       [2, 9, 4, 1, 4]])"
      ]
     },
     "execution_count": 9,
     "metadata": {},
     "output_type": "execute_result"
    }
   ],
   "source": [
    "# Двумерный массив\n",
    "np.random.randint(10, size=(3,5))"
   ]
  },
  {
   "cell_type": "code",
   "execution_count": null,
   "id": "3f5276c0",
   "metadata": {},
   "outputs": [],
   "source": []
  },
  {
   "cell_type": "markdown",
   "id": "7b2eab69",
   "metadata": {},
   "source": [
    "* Атрибуты"
   ]
  },
  {
   "cell_type": "code",
   "execution_count": 11,
   "id": "c4930c89",
   "metadata": {},
   "outputs": [
    {
     "data": {
      "text/plain": [
       "array([[8, 4, 1, 2, 0],\n",
       "       [6, 9, 0, 6, 1],\n",
       "       [4, 5, 8, 0, 7]])"
      ]
     },
     "execution_count": 11,
     "metadata": {},
     "output_type": "execute_result"
    }
   ],
   "source": [
    "arr_1 = np.random.randint(10, size=(3,5))\n",
    "arr_1"
   ]
  },
  {
   "cell_type": "code",
   "execution_count": 12,
   "id": "c4a99f02",
   "metadata": {},
   "outputs": [
    {
     "data": {
      "text/plain": [
       "2"
      ]
     },
     "execution_count": 12,
     "metadata": {},
     "output_type": "execute_result"
    }
   ],
   "source": [
    "# Мерность массива(количество измерений либо осей)\n",
    "arr_1.ndim"
   ]
  },
  {
   "cell_type": "code",
   "execution_count": 13,
   "id": "21c3637e",
   "metadata": {},
   "outputs": [
    {
     "data": {
      "text/plain": [
       "(3, 5)"
      ]
     },
     "execution_count": 13,
     "metadata": {},
     "output_type": "execute_result"
    }
   ],
   "source": [
    "# Форма массива\n",
    "arr_1.shape"
   ]
  },
  {
   "cell_type": "code",
   "execution_count": 14,
   "id": "b93c853d",
   "metadata": {},
   "outputs": [
    {
     "data": {
      "text/plain": [
       "3"
      ]
     },
     "execution_count": 14,
     "metadata": {},
     "output_type": "execute_result"
    }
   ],
   "source": [
    "arr_1.shape[0]"
   ]
  },
  {
   "cell_type": "code",
   "execution_count": 15,
   "id": "c82be650",
   "metadata": {},
   "outputs": [
    {
     "data": {
      "text/plain": [
       "15"
      ]
     },
     "execution_count": 15,
     "metadata": {},
     "output_type": "execute_result"
    }
   ],
   "source": [
    "# Колличество всех элементов массива\n",
    "arr_1.size"
   ]
  },
  {
   "cell_type": "code",
   "execution_count": 16,
   "id": "76d54515",
   "metadata": {},
   "outputs": [
    {
     "data": {
      "text/plain": [
       "dtype('int32')"
      ]
     },
     "execution_count": 16,
     "metadata": {},
     "output_type": "execute_result"
    }
   ],
   "source": [
    "# Тип данных содержащихся в масиве\n",
    "# Хранит только один тип данных\n",
    "arr_1.dtype"
   ]
  },
  {
   "cell_type": "code",
   "execution_count": 17,
   "id": "be1ee5a5",
   "metadata": {},
   "outputs": [
    {
     "data": {
      "text/plain": [
       "dtype('float64')"
      ]
     },
     "execution_count": 17,
     "metadata": {},
     "output_type": "execute_result"
    }
   ],
   "source": [
    "np.random.random(5).dtype"
   ]
  },
  {
   "cell_type": "code",
   "execution_count": 18,
   "id": "a241de41",
   "metadata": {},
   "outputs": [
    {
     "data": {
      "text/plain": [
       "array([[8, 4, 1, 2, 0],\n",
       "       [6, 9, 0, 6, 1],\n",
       "       [4, 5, 8, 0, 7]], dtype=uint8)"
      ]
     },
     "execution_count": 18,
     "metadata": {},
     "output_type": "execute_result"
    }
   ],
   "source": [
    "arr_1.astype(\"uint8\")"
   ]
  },
  {
   "cell_type": "raw",
   "id": "402a63f6",
   "metadata": {},
   "source": []
  },
  {
   "cell_type": "markdown",
   "id": "c9b03a28",
   "metadata": {},
   "source": [
    "* Индексация"
   ]
  },
  {
   "cell_type": "code",
   "execution_count": 20,
   "id": "08d07ad1",
   "metadata": {},
   "outputs": [
    {
     "data": {
      "text/plain": [
       "array([7, 8, 3, 9, 1, 7, 1, 3, 9, 4])"
      ]
     },
     "execution_count": 20,
     "metadata": {},
     "output_type": "execute_result"
    }
   ],
   "source": [
    "arr_2 = np.random.randint(10, size=10)\n",
    "arr_2"
   ]
  },
  {
   "cell_type": "code",
   "execution_count": 21,
   "id": "fc192c57",
   "metadata": {},
   "outputs": [
    {
     "data": {
      "text/plain": [
       "7"
      ]
     },
     "execution_count": 21,
     "metadata": {},
     "output_type": "execute_result"
    }
   ],
   "source": [
    "# Прямая индексация\n",
    "arr_2[0]"
   ]
  },
  {
   "cell_type": "code",
   "execution_count": 22,
   "id": "3260fe37",
   "metadata": {},
   "outputs": [
    {
     "data": {
      "text/plain": [
       "4"
      ]
     },
     "execution_count": 22,
     "metadata": {},
     "output_type": "execute_result"
    }
   ],
   "source": [
    "# Обратная индексация\n",
    "arr_2[-1]"
   ]
  },
  {
   "cell_type": "code",
   "execution_count": 23,
   "id": "8e77788e",
   "metadata": {},
   "outputs": [
    {
     "data": {
      "text/plain": [
       "array([[0, 4, 2, 8],\n",
       "       [8, 9, 0, 5],\n",
       "       [3, 7, 3, 9]])"
      ]
     },
     "execution_count": 23,
     "metadata": {},
     "output_type": "execute_result"
    }
   ],
   "source": [
    "# Индексация двумерных масивов\n",
    "arr_3 = np.random.randint(10, size=(3,4))\n",
    "arr_3"
   ]
  },
  {
   "cell_type": "code",
   "execution_count": 29,
   "id": "544a3fdc",
   "metadata": {},
   "outputs": [
    {
     "data": {
      "text/plain": [
       "0"
      ]
     },
     "execution_count": 29,
     "metadata": {},
     "output_type": "execute_result"
    }
   ],
   "source": [
    "# Обычный синтаксис\n",
    "arr_3[1][2]"
   ]
  },
  {
   "cell_type": "code",
   "execution_count": 28,
   "id": "b3f335a8",
   "metadata": {},
   "outputs": [
    {
     "data": {
      "text/plain": [
       "0"
      ]
     },
     "execution_count": 28,
     "metadata": {},
     "output_type": "execute_result"
    }
   ],
   "source": [
    "# Синтаксис NumPy\n",
    "arr_3[1,2]"
   ]
  },
  {
   "cell_type": "code",
   "execution_count": null,
   "id": "d2e6d654",
   "metadata": {},
   "outputs": [],
   "source": []
  },
  {
   "cell_type": "markdown",
   "id": "ff5aec12",
   "metadata": {},
   "source": [
    "* Срезы"
   ]
  },
  {
   "cell_type": "code",
   "execution_count": 30,
   "id": "5201856c",
   "metadata": {},
   "outputs": [
    {
     "data": {
      "text/plain": [
       "array([7, 8, 3, 9, 1])"
      ]
     },
     "execution_count": 30,
     "metadata": {},
     "output_type": "execute_result"
    }
   ],
   "source": [
    "# Одномерный массив\n",
    "arr_2[:5]"
   ]
  },
  {
   "cell_type": "code",
   "execution_count": 34,
   "id": "0547dc5d",
   "metadata": {},
   "outputs": [
    {
     "data": {
      "text/plain": [
       "array([4, 1])"
      ]
     },
     "execution_count": 34,
     "metadata": {},
     "output_type": "execute_result"
    }
   ],
   "source": [
    "arr_2[::-5]"
   ]
  },
  {
   "cell_type": "code",
   "execution_count": 35,
   "id": "59767aa9",
   "metadata": {},
   "outputs": [
    {
     "data": {
      "text/plain": [
       "array([9, 3, 1, 7])"
      ]
     },
     "execution_count": 35,
     "metadata": {},
     "output_type": "execute_result"
    }
   ],
   "source": [
    "arr_2[-2:-6:-1]"
   ]
  },
  {
   "cell_type": "code",
   "execution_count": 36,
   "id": "b3fdfe96",
   "metadata": {},
   "outputs": [
    {
     "data": {
      "text/plain": [
       "array([[8, 9, 0],\n",
       "       [3, 7, 3]])"
      ]
     },
     "execution_count": 36,
     "metadata": {},
     "output_type": "execute_result"
    }
   ],
   "source": [
    "# Двумерный массив\n",
    "arr_3[1:, :3]"
   ]
  },
  {
   "cell_type": "code",
   "execution_count": 37,
   "id": "c3503c46",
   "metadata": {},
   "outputs": [
    {
     "data": {
      "text/plain": [
       "array([4, 2, 8])"
      ]
     },
     "execution_count": 37,
     "metadata": {},
     "output_type": "execute_result"
    }
   ],
   "source": [
    "arr_3[0,1:]"
   ]
  },
  {
   "cell_type": "code",
   "execution_count": 38,
   "id": "1c4edf6b",
   "metadata": {},
   "outputs": [
    {
     "data": {
      "text/plain": [
       "array([4, 9])"
      ]
     },
     "execution_count": 38,
     "metadata": {},
     "output_type": "execute_result"
    }
   ],
   "source": [
    "arr_3[:2, 1]"
   ]
  },
  {
   "cell_type": "code",
   "execution_count": null,
   "id": "f049d66e",
   "metadata": {},
   "outputs": [],
   "source": []
  },
  {
   "cell_type": "markdown",
   "id": "8e1621aa",
   "metadata": {},
   "source": [
    "* Представления(views) и копии(copies)"
   ]
  },
  {
   "cell_type": "code",
   "execution_count": 40,
   "id": "8f9755cf",
   "metadata": {},
   "outputs": [
    {
     "data": {
      "text/plain": [
       "[3, 4, 5]"
      ]
     },
     "execution_count": 40,
     "metadata": {},
     "output_type": "execute_result"
    }
   ],
   "source": [
    "# Срез списка создает копию\n",
    "my_list = [1,2,3,4,5]\n",
    "sub_list = my_list[2:]\n",
    "sub_list"
   ]
  },
  {
   "cell_type": "code",
   "execution_count": 41,
   "id": "1bc2d714",
   "metadata": {},
   "outputs": [
    {
     "data": {
      "text/plain": [
       "[100, 4, 5]"
      ]
     },
     "execution_count": 41,
     "metadata": {},
     "output_type": "execute_result"
    }
   ],
   "source": [
    "sub_list[0] = 100\n",
    "sub_list"
   ]
  },
  {
   "cell_type": "code",
   "execution_count": 42,
   "id": "65955ef7",
   "metadata": {},
   "outputs": [
    {
     "data": {
      "text/plain": [
       "[1, 2, 3, 4, 5]"
      ]
     },
     "execution_count": 42,
     "metadata": {},
     "output_type": "execute_result"
    }
   ],
   "source": [
    "my_list"
   ]
  },
  {
   "cell_type": "code",
   "execution_count": 44,
   "id": "e5e36f30",
   "metadata": {},
   "outputs": [
    {
     "data": {
      "text/plain": [
       "array([3, 4, 5])"
      ]
     },
     "execution_count": 44,
     "metadata": {},
     "output_type": "execute_result"
    }
   ],
   "source": [
    "# Срез массива создает представление исходного массива\n",
    "my_arr = np.array([1,2,3,4,5])\n",
    "sub_arr = my_arr[2:]\n",
    "sub_arr"
   ]
  },
  {
   "cell_type": "code",
   "execution_count": 45,
   "id": "43e1ccf9",
   "metadata": {},
   "outputs": [
    {
     "data": {
      "text/plain": [
       "array([10,  4,  5])"
      ]
     },
     "execution_count": 45,
     "metadata": {},
     "output_type": "execute_result"
    }
   ],
   "source": [
    "sub_arr[0] = 10\n",
    "sub_arr"
   ]
  },
  {
   "cell_type": "code",
   "execution_count": 46,
   "id": "7a61ce80",
   "metadata": {},
   "outputs": [
    {
     "data": {
      "text/plain": [
       "array([ 1,  2, 10,  4,  5])"
      ]
     },
     "execution_count": 46,
     "metadata": {},
     "output_type": "execute_result"
    }
   ],
   "source": [
    "my_arr"
   ]
  },
  {
   "cell_type": "code",
   "execution_count": 47,
   "id": "babed40c",
   "metadata": {},
   "outputs": [
    {
     "data": {
      "text/plain": [
       "array([10,  4,  5])"
      ]
     },
     "execution_count": 47,
     "metadata": {},
     "output_type": "execute_result"
    }
   ],
   "source": [
    "copy_arr = my_arr[2:].copy()\n",
    "copy_arr"
   ]
  },
  {
   "cell_type": "code",
   "execution_count": 48,
   "id": "de4eba31",
   "metadata": {},
   "outputs": [
    {
     "data": {
      "text/plain": [
       "array([1000,    4,    5])"
      ]
     },
     "execution_count": 48,
     "metadata": {},
     "output_type": "execute_result"
    }
   ],
   "source": [
    "copy_arr[0] = 1000\n",
    "copy_arr"
   ]
  },
  {
   "cell_type": "code",
   "execution_count": 49,
   "id": "c0fc6bbd",
   "metadata": {},
   "outputs": [
    {
     "data": {
      "text/plain": [
       "array([ 1,  2, 10,  4,  5])"
      ]
     },
     "execution_count": 49,
     "metadata": {},
     "output_type": "execute_result"
    }
   ],
   "source": [
    "my_arr"
   ]
  },
  {
   "cell_type": "code",
   "execution_count": null,
   "id": "1dfce4f9",
   "metadata": {},
   "outputs": [],
   "source": []
  },
  {
   "cell_type": "markdown",
   "id": "bf2a22a4",
   "metadata": {},
   "source": [
    "* Изменения формы"
   ]
  },
  {
   "cell_type": "code",
   "execution_count": 50,
   "id": "a302fbca",
   "metadata": {},
   "outputs": [
    {
     "data": {
      "text/plain": [
       "array([1, 2, 3, 4, 5, 6, 7, 8, 9])"
      ]
     },
     "execution_count": 50,
     "metadata": {},
     "output_type": "execute_result"
    }
   ],
   "source": [
    "# Одномерный массив(вектор строка)\n",
    "arr_4 = np.arange(1, 10)\n",
    "arr_4"
   ]
  },
  {
   "cell_type": "code",
   "execution_count": 53,
   "id": "0653e36e",
   "metadata": {},
   "outputs": [
    {
     "data": {
      "text/plain": [
       "(9,)"
      ]
     },
     "execution_count": 53,
     "metadata": {},
     "output_type": "execute_result"
    }
   ],
   "source": [
    "arr_4.shape"
   ]
  },
  {
   "cell_type": "code",
   "execution_count": 52,
   "id": "0fe2253b",
   "metadata": {},
   "outputs": [
    {
     "data": {
      "text/plain": [
       "array([[1],\n",
       "       [2],\n",
       "       [3],\n",
       "       [4],\n",
       "       [5],\n",
       "       [6],\n",
       "       [7],\n",
       "       [8],\n",
       "       [9]])"
      ]
     },
     "execution_count": 52,
     "metadata": {},
     "output_type": "execute_result"
    }
   ],
   "source": [
    "# вЕКТОР СТОЛБЕЦ\n",
    "# Технически это двухмерный массив\n",
    "arr_4.reshape((9,1))"
   ]
  },
  {
   "cell_type": "code",
   "execution_count": 54,
   "id": "6c014460",
   "metadata": {},
   "outputs": [
    {
     "data": {
      "text/plain": [
       "array([[0.07930717, 0.75640305, 0.51210538],\n",
       "       [0.50475106, 0.4036277 , 0.58653805]])"
      ]
     },
     "execution_count": 54,
     "metadata": {},
     "output_type": "execute_result"
    }
   ],
   "source": [
    "arr_5 = np.random.random((2,3))\n",
    "arr_5"
   ]
  },
  {
   "cell_type": "code",
   "execution_count": 55,
   "id": "051fa4da",
   "metadata": {},
   "outputs": [
    {
     "data": {
      "text/plain": [
       "array([[0.07930717, 0.75640305],\n",
       "       [0.51210538, 0.50475106],\n",
       "       [0.4036277 , 0.58653805]])"
      ]
     },
     "execution_count": 55,
     "metadata": {},
     "output_type": "execute_result"
    }
   ],
   "source": [
    "arr_5.reshape((3,2))"
   ]
  },
  {
   "cell_type": "code",
   "execution_count": 58,
   "id": "006f1d79",
   "metadata": {},
   "outputs": [
    {
     "data": {
      "text/plain": [
       "array([[0.07930717],\n",
       "       [0.75640305],\n",
       "       [0.51210538],\n",
       "       [0.50475106],\n",
       "       [0.4036277 ],\n",
       "       [0.58653805]])"
      ]
     },
     "execution_count": 58,
     "metadata": {},
     "output_type": "execute_result"
    }
   ],
   "source": [
    "arr_5.reshape((6,1))"
   ]
  },
  {
   "cell_type": "markdown",
   "id": "23e3fe81",
   "metadata": {},
   "source": []
  },
  {
   "cell_type": "markdown",
   "id": "56930844",
   "metadata": {},
   "source": [
    "## Операции\n",
    "- универсальные функции"
   ]
  },
  {
   "cell_type": "code",
   "execution_count": 60,
   "id": "1c73153c",
   "metadata": {},
   "outputs": [
    {
     "name": "stdout",
     "output_type": "stream",
     "text": [
      "[0 1 2 3 4]\n",
      "[1 2 3 4 5]\n"
     ]
    }
   ],
   "source": [
    "a = np.arange(5)\n",
    "b = np.arange(1,6)\n",
    "\n",
    "print(a)\n",
    "print(b)"
   ]
  },
  {
   "cell_type": "code",
   "execution_count": 61,
   "id": "a41b993f",
   "metadata": {},
   "outputs": [
    {
     "data": {
      "text/plain": [
       "array([1, 3, 5, 7, 9])"
      ]
     },
     "execution_count": 61,
     "metadata": {},
     "output_type": "execute_result"
    }
   ],
   "source": [
    "# Поэлементное сложение массивов\n",
    "# \"+\" Алиас универсальной функции np.add()\n",
    "a + b"
   ]
  },
  {
   "cell_type": "code",
   "execution_count": 62,
   "id": "cceb31da",
   "metadata": {},
   "outputs": [
    {
     "data": {
      "text/plain": [
       "array([1, 3, 5, 7, 9])"
      ]
     },
     "execution_count": 62,
     "metadata": {},
     "output_type": "execute_result"
    }
   ],
   "source": [
    "np.add(a, b)"
   ]
  },
  {
   "cell_type": "code",
   "execution_count": 63,
   "id": "c40024ac",
   "metadata": {},
   "outputs": [
    {
     "data": {
      "text/plain": [
       "30"
      ]
     },
     "execution_count": 63,
     "metadata": {},
     "output_type": "execute_result"
    }
   ],
   "source": [
    "np.add(10, 20)"
   ]
  },
  {
   "cell_type": "code",
   "execution_count": 64,
   "id": "4a13a377",
   "metadata": {},
   "outputs": [
    {
     "data": {
      "text/plain": [
       "array([ 0,  2,  6, 12, 20])"
      ]
     },
     "execution_count": 64,
     "metadata": {},
     "output_type": "execute_result"
    }
   ],
   "source": [
    "# Поэлементное умножение(Произведение Адамара)\n",
    "a * b"
   ]
  },
  {
   "cell_type": "code",
   "execution_count": 66,
   "id": "8aa90332",
   "metadata": {},
   "outputs": [
    {
     "data": {
      "text/plain": [
       "array([[1],\n",
       "       [2],\n",
       "       [3],\n",
       "       [4],\n",
       "       [5]])"
      ]
     },
     "execution_count": 66,
     "metadata": {},
     "output_type": "execute_result"
    }
   ],
   "source": [
    "# Матричное умножение\n",
    "c = b.reshape((5,1))\n",
    "c"
   ]
  },
  {
   "cell_type": "code",
   "execution_count": 67,
   "id": "11bcd0eb",
   "metadata": {},
   "outputs": [
    {
     "data": {
      "text/plain": [
       "array([40])"
      ]
     },
     "execution_count": 67,
     "metadata": {},
     "output_type": "execute_result"
    }
   ],
   "source": [
    "np.dot(a,c)"
   ]
  },
  {
   "cell_type": "code",
   "execution_count": null,
   "id": "13a50181",
   "metadata": {},
   "outputs": [],
   "source": [
    "# a[0] * c[0] + a[1] *c[1] + a[2] * c[2] + ..."
   ]
  }
 ],
 "metadata": {
  "kernelspec": {
   "display_name": "Python 3",
   "language": "python",
   "name": "python3"
  },
  "language_info": {
   "codemirror_mode": {
    "name": "ipython",
    "version": 3
   },
   "file_extension": ".py",
   "mimetype": "text/x-python",
   "name": "python",
   "nbconvert_exporter": "python",
   "pygments_lexer": "ipython3",
   "version": "3.8.8"
  }
 },
 "nbformat": 4,
 "nbformat_minor": 5
}
